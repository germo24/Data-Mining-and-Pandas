{
 "cells": [
  {
   "cell_type": "markdown",
   "metadata": {
    "deletable": false,
    "editable": false,
    "etc_identifier": "653a3605-5bda-4e1f-beef-04a0173d3f41",
    "nbgrader": {
     "cell_type": "markdown",
     "checksum": "60da2e57814a61cf6a81dd670bf35473",
     "grade": false,
     "grade_id": "cell-a6c4f74309fc2379",
     "locked": true,
     "schema_version": 3,
     "solution": false
    }
   },
   "source": [
    "# Assignment 4\n",
    "## Description\n",
    "In this assignment you must read in a file of metropolitan regions and associated sports teams from [assets/wikipedia_data.html](assets/wikipedia_data.html) and answer some questions about each metropolitan region. Each of these regions may have one or more teams from the \"Big 4\": NFL (football, in [assets/nfl.csv](assets/nfl.csv)), MLB (baseball, in [assets/mlb.csv](assets/mlb.csv)), NBA (basketball, in [assets/nba.csv](assets/nba.csv) or NHL (hockey, in [assets/nhl.csv](assets/nhl.csv)). Please keep in mind that all questions are from the perspective of the metropolitan region, and that this file is the \"source of authority\" for the location of a given sports team. Thus teams which are commonly known by a different area (e.g. \"Oakland Raiders\") need to be mapped into the metropolitan region given (e.g. San Francisco Bay Area). This will require some human data understanding outside of the data you've been given (e.g. you will have to hand-code some names, and might need to google to find out where teams are)!\n",
    "\n",
    "For each sport I would like you to answer the question: **what is the win/loss ratio's correlation with the population of the city it is in?** Win/Loss ratio refers to the number of wins over the number of wins plus the number of losses. Remember that to calculate the correlation with [`pearsonr`](https://docs.scipy.org/doc/scipy/reference/generated/scipy.stats.pearsonr.html), so you are going to send in two ordered lists of values, the populations from the wikipedia_data.html file and the win/loss ratio for a given sport in the same order. Average the win/loss ratios for those cities which have multiple teams of a single sport. Each sport is worth an equal amount in this assignment (20%\\*4=80%) of the grade for this assignment. You should only use data **from year 2018** for your analysis -- this is important!\n",
    "\n",
    "## Notes\n",
    "\n",
    "1. Do not include data about the MLS or CFL in any of the work you are doing, we're only interested in the Big 4 in this assignment.\n",
    "2. I highly suggest that you first tackle the four correlation questions in order, as they are all similar and worth the majority of grades for this assignment. This is by design!\n",
    "3. It's fair game to talk with peers about high level strategy as well as the relationship between metropolitan areas and sports teams. However, do not post code solving aspects of the assignment (including such as dictionaries mapping areas to teams, or regexes which will clean up names).\n",
    "4. There may be more teams than the assert statements test, remember to collapse multiple teams in one city into a single value!\n",
    "\n",
    "As this assignment utilizes global variables in the skeleton code, to avoid having errors in your code you can either:\n",
    "\n",
    "1. You can place all of your code within the function definitions for all of the questions (other than import statements).\n",
    "2. You can create copies of all the global variables with the copy() method and proceed as usual."
   ]
  },
  {
   "cell_type": "markdown",
   "metadata": {
    "deletable": false,
    "editable": false,
    "nbgrader": {
     "cell_type": "markdown",
     "checksum": "369ff9ecf0ee04640574205cbc697f94",
     "grade": false,
     "grade_id": "cell-712b2b5da63d4505",
     "locked": true,
     "schema_version": 3,
     "solution": false
    }
   },
   "source": [
    "## Question 1\n",
    "For this question, calculate the win/loss ratio's correlation with the population of the city it is in for the **NHL** using **2018** data."
   ]
  },
  {
   "cell_type": "code",
   "execution_count": 3,
   "metadata": {},
   "outputs": [
    {
     "data": {
      "text/plain": [
       "0.012308996455744264"
      ]
     },
     "execution_count": 3,
     "metadata": {},
     "output_type": "execute_result"
    }
   ],
   "source": [
    "import pandas as pd\n",
    "import numpy as np\n",
    "import scipy.stats as stats\n",
    "import re\n",
    "\n",
    "nhl_df=pd.read_csv(\"assets/nhl.csv\")\n",
    "cities=pd.read_html(\"assets/wikipedia_data.html\")[1]\n",
    "cities=cities.iloc[:-1,[0,3,5,6,7,8]]\n",
    "    \n",
    "cities_nhl = cities.copy()\n",
    "    \n",
    "# Remove the 'note[]'\n",
    "\n",
    "cities_nhl['NHL'] = cities_nhl['NHL'].apply(lambda x: re.sub( '\\[.*\\]', '', x))\n",
    "\n",
    "# Get the values distinct of '-' and ''\n",
    "\n",
    "cities_nhl = cities_nhl.loc[~(cities_nhl['NHL'] == '—') & ~(cities_nhl['NHL'] == '')]\n",
    "\n",
    "# Get the usefull columns and rename for convenience\n",
    "\n",
    "cities_nhl = cities_nhl[['Metropolitan area', 'Population (2016 est.)[8]', 'NHL']].rename(columns = {'Population (2016 est.)[8]': 'Population'})\n",
    "\n",
    "# Clean the team field and get only the name of each team\n",
    "\n",
    "nhl_df['team'] = nhl_df['team'].apply(lambda x: x.strip().replace('*', '').split(' ')[-1])\n",
    "\n",
    "nhl_df = nhl_df.loc[nhl_df['year'] == 2018]\n",
    "\n",
    "nhl_df = nhl_df[nhl_df['team'] != 'Division']\n",
    "\n",
    "'''\n",
    "\n",
    "TO CHECK FOR CITIES WITH MORE THAN ONE TEAM OR WRITING DIFFERENCES BETWEEN THE TWO DATAFRAMES AND MAKE THE CORRECTIONS\n",
    "\n",
    "print(nhl_df['team'].values)\n",
    "\n",
    "print(cities_nba['NHL'].values)\n",
    "\n",
    "for i in nhl_df['team']:\n",
    "    \n",
    "    if i not in cities_nba['NHL'].values:\n",
    "        print(i)\n",
    "\n",
    "\n",
    "'''\n",
    "\n",
    "cities_nhl[\"NHL\"] = cities_nhl[\"NHL\"].replace({'Rangers Islanders Devils': 'Rangers-Islanders-Devils',\n",
    "                                           'Kings Ducks':'Kings-Ducks'})\n",
    "\n",
    "cities_nhl[\"NHL\"] = cities_nhl[\"NHL\"].apply(lambda x: x.split('-'))\n",
    "\n",
    "cities_nhl = cities_nhl.explode('NHL')\n",
    "\n",
    "renameDict  = { 'Knights': 'Golden Knights',\n",
    "                  'Leafs': 'Maple Leafs',\n",
    "                  'Jackets': 'Blue Jackets',\n",
    "                  'Wings': 'Red Wings'}\n",
    "\n",
    "nhl_df['team'] = nhl_df['team'].apply(lambda x: renameDict[x] if x in renameDict else x)\n",
    "\n",
    "\n",
    "df_nhl = pd.merge( nhl_df, cities_nhl, left_on = 'team', right_on = 'NHL')\n",
    "\n",
    "\n",
    "df_nhl = df_nhl[['Metropolitan area', 'Population', 'team', 'W', 'L']]\n",
    "\n",
    "cols =  ['Population', 'W', 'L']\n",
    "\n",
    "df_nhl[cols] = df_nhl[cols].astype(int)\n",
    "\n",
    "df_nhl = df_nhl.groupby('Metropolitan area').sum().reset_index()\n",
    "\n",
    " \n",
    "df_nhl.loc[df_nhl['Metropolitan area'] == 'New York City', 'Population'] = 20153634\n",
    "\n",
    "df_nhl.loc[df_nhl['Metropolitan area'] == 'Los Angeles', 'Population'] = 13310447\n",
    "\n",
    "df_nhl['W/L'] = df_nhl['W'] / (df_nhl['W'] + df_nhl['L'])\n",
    "\n",
    "df_nhl['Population'] = df_nhl['Population'].astype(float)\n",
    "\n",
    "df_nhl['W/L'] = df_nhl['W/L'].astype(float)\n",
    "\n",
    "population_by_region = df_nhl['Population']\n",
    "\n",
    "win_loss_by_region = df_nhl['W/L']\n",
    "\n",
    "assert len(population_by_region) == len(win_loss_by_region), \"Q1: Your lists must be the same length\"\n",
    "assert len(population_by_region) == 28, \"Q1: There should be 28 teams being analysed for NHL\"\n",
    "    \n",
    "result = stats.pearsonr(population_by_region, win_loss_by_region)[0]\n",
    "\n",
    "result\n"
   ]
  },
  {
   "cell_type": "code",
   "execution_count": 4,
   "metadata": {
    "deletable": false,
    "nbgrader": {
     "cell_type": "code",
     "checksum": "1cac4803b02502929f5b1612d48db2b5",
     "grade": false,
     "grade_id": "cell-69b16e4386e58030",
     "locked": false,
     "schema_version": 3,
     "solution": true
    }
   },
   "outputs": [],
   "source": [
    "import pandas as pd\n",
    "import numpy as np\n",
    "import scipy.stats as stats\n",
    "import re\n",
    "\n",
    "nhl_df=pd.read_csv(\"assets/nhl.csv\")\n",
    "cities=pd.read_html(\"assets/wikipedia_data.html\")[1]\n",
    "cities=cities.iloc[:-1,[0,3,5,6,7,8]]\n",
    "\n",
    "\n",
    "\n",
    "def nhl_correlation(): \n",
    "\n",
    "    nhl_df=pd.read_csv(\"assets/nhl.csv\")\n",
    "    cities=pd.read_html(\"assets/wikipedia_data.html\")[1]\n",
    "    cities=cities.iloc[:-1,[0,3,5,6,7,8]]\n",
    "    \n",
    "    cities_nhl = cities.copy()\n",
    "\n",
    "    # Remove the 'note[]'\n",
    "\n",
    "    cities_nhl['NHL'] = cities_nhl['NHL'].apply(lambda x: re.sub( '\\[.*\\]', '', x))\n",
    "\n",
    "    # Get the values distinct of '-' and ''\n",
    "\n",
    "    cities_nhl = cities_nhl.loc[~(cities_nhl['NHL'] == '—') & ~(cities_nhl['NHL'] == '')]\n",
    "\n",
    "    # Get the usefull columns and rename for convenience\n",
    "\n",
    "    cities_nhl = cities_nhl[['Metropolitan area', 'Population (2016 est.)[8]', 'NHL']].rename(columns = {'Population (2016 est.)[8]': 'Population'})\n",
    "\n",
    "    # Clean the team field and get only the name of each team\n",
    "\n",
    "    nhl_df['team'] = nhl_df['team'].apply(lambda x: x.strip().replace('*', '').split(' ')[-1])\n",
    "\n",
    "    nhl_df = nhl_df.loc[nhl_df['year'] == 2018]\n",
    "\n",
    "    nhl_df = nhl_df[nhl_df['team'] != 'Division']\n",
    "\n",
    "    cities_nhl[\"NHL\"] = cities_nhl[\"NHL\"].replace({'Rangers Islanders Devils': 'Rangers-Islanders-Devils',\n",
    "                                               'Kings Ducks':'Kings-Ducks'})\n",
    "\n",
    "    cities_nhl[\"NHL\"] = cities_nhl[\"NHL\"].apply(lambda x: x.split('-'))\n",
    "\n",
    "    cities_nhl = cities_nhl.explode('NHL')\n",
    "\n",
    "    renameDict  = { 'Knights': 'Golden Knights',\n",
    "                      'Leafs': 'Maple Leafs',\n",
    "                      'Jackets': 'Blue Jackets',\n",
    "                      'Wings': 'Red Wings'}\n",
    "\n",
    "    nhl_df['team'] = nhl_df['team'].apply(lambda x: renameDict[x] if x in renameDict else x)\n",
    "\n",
    "\n",
    "    df_nhl = pd.merge( nhl_df, cities_nhl, left_on = 'team', right_on = 'NHL')\n",
    "\n",
    "\n",
    "    df_nhl = df_nhl[['Metropolitan area', 'Population', 'team', 'W', 'L']]\n",
    "\n",
    "    cols =  ['Population', 'W', 'L']\n",
    "\n",
    "    df_nhl[cols] = df_nhl[cols].astype(int)\n",
    "\n",
    "    df_nhl = df_nhl.groupby('Metropolitan area').sum().reset_index()\n",
    "\n",
    "\n",
    "    df_nhl.loc[df_nhl['Metropolitan area'] == 'New York City', 'Population'] = 20153634\n",
    "\n",
    "    df_nhl.loc[df_nhl['Metropolitan area'] == 'Los Angeles', 'Population'] = 13310447\n",
    "\n",
    "    df_nhl['W/L'] = df_nhl['W'] / (df_nhl['W'] + df_nhl['L'])\n",
    "    \n",
    "    \n",
    "\n",
    "    population_by_region = df_nhl['Population']\n",
    "\n",
    "    win_loss_by_region = df_nhl['W/L']\n",
    "\n",
    "    assert len(population_by_region) == len(win_loss_by_region), \"Q1: Your lists must be the same length\"\n",
    "    assert len(population_by_region) == 28, \"Q1: There should be 28 teams being analysed for NHL\"\n",
    "    \n",
    "    result = stats.pearsonr(population_by_region, win_loss_by_region)[0]\n",
    "    \n",
    "    return result"
   ]
  },
  {
   "cell_type": "code",
   "execution_count": null,
   "metadata": {
    "deletable": false,
    "editable": false,
    "nbgrader": {
     "cell_type": "code",
     "checksum": "52a581df513c71153e105b93764cda4b",
     "grade": true,
     "grade_id": "cell-ebe0b2dfe1067e63",
     "locked": true,
     "points": 20,
     "schema_version": 3,
     "solution": false
    }
   },
   "outputs": [],
   "source": []
  },
  {
   "cell_type": "markdown",
   "metadata": {
    "deletable": false,
    "editable": false,
    "nbgrader": {
     "cell_type": "markdown",
     "checksum": "988912cae4968d81473f46d783e79c16",
     "grade": false,
     "grade_id": "cell-cb964e690298b71d",
     "locked": true,
     "schema_version": 3,
     "solution": false
    }
   },
   "source": [
    "## Question 2\n",
    "For this question, calculate the win/loss ratio's correlation with the population of the city it is in for the **NBA** using **2018** data."
   ]
  },
  {
   "cell_type": "code",
   "execution_count": null,
   "metadata": {},
   "outputs": [],
   "source": []
  },
  {
   "cell_type": "code",
   "execution_count": null,
   "metadata": {
    "deletable": false,
    "nbgrader": {
     "cell_type": "code",
     "checksum": "9394222aafc8ccab0a228098ba0d6010",
     "grade": false,
     "grade_id": "cell-5a5f21279e3d3572",
     "locked": false,
     "schema_version": 3,
     "solution": true
    }
   },
   "outputs": [],
   "source": []
  },
  {
   "cell_type": "code",
   "execution_count": null,
   "metadata": {
    "deletable": false,
    "editable": false,
    "nbgrader": {
     "cell_type": "code",
     "checksum": "bbdeb8eb22f525a34c10dc8798324e42",
     "grade": true,
     "grade_id": "cell-e573b2b4a282b470",
     "locked": true,
     "points": 20,
     "schema_version": 3,
     "solution": false
    }
   },
   "outputs": [],
   "source": []
  },
  {
   "cell_type": "markdown",
   "metadata": {
    "deletable": false,
    "editable": false,
    "nbgrader": {
     "cell_type": "markdown",
     "checksum": "1a1a5809f675ca033086422007cd73bd",
     "grade": false,
     "grade_id": "cell-96e15e4335df78f4",
     "locked": true,
     "schema_version": 3,
     "solution": false
    }
   },
   "source": [
    "## Question 3\n",
    "For this question, calculate the win/loss ratio's correlation with the population of the city it is in for the **MLB** using **2018** data."
   ]
  },
  {
   "cell_type": "code",
   "execution_count": null,
   "metadata": {},
   "outputs": [],
   "source": []
  },
  {
   "cell_type": "code",
   "execution_count": null,
   "metadata": {
    "deletable": false,
    "nbgrader": {
     "cell_type": "code",
     "checksum": "27e8c0da6c9fa0dffc10488314335b6c",
     "grade": false,
     "grade_id": "cell-33b00fc3f3467b0c",
     "locked": false,
     "schema_version": 3,
     "solution": true
    }
   },
   "outputs": [],
   "source": []
  },
  {
   "cell_type": "code",
   "execution_count": null,
   "metadata": {
    "deletable": false,
    "editable": false,
    "nbgrader": {
     "cell_type": "code",
     "checksum": "cda33b094ba19ccc37a481e0dd29e0bc",
     "grade": true,
     "grade_id": "cell-764d4476f425c5a2",
     "locked": true,
     "points": 20,
     "schema_version": 3,
     "solution": false
    }
   },
   "outputs": [],
   "source": []
  },
  {
   "cell_type": "markdown",
   "metadata": {
    "deletable": false,
    "editable": false,
    "nbgrader": {
     "cell_type": "markdown",
     "checksum": "6977a6da9ed6d8b7a0b7e37bbeda709b",
     "grade": false,
     "grade_id": "cell-793df6c04dfb126e",
     "locked": true,
     "schema_version": 3,
     "solution": false
    }
   },
   "source": [
    "## Question 4\n",
    "For this question, calculate the win/loss ratio's correlation with the population of the city it is in for the **NFL** using **2018** data."
   ]
  },
  {
   "cell_type": "code",
   "execution_count": null,
   "metadata": {},
   "outputs": [],
   "source": []
  },
  {
   "cell_type": "code",
   "execution_count": null,
   "metadata": {
    "deletable": false,
    "nbgrader": {
     "cell_type": "code",
     "checksum": "c4914ad1e119278ec2bd567c52640b66",
     "grade": false,
     "grade_id": "cell-8ccebc209aeec8d9",
     "locked": false,
     "schema_version": 3,
     "solution": true
    }
   },
   "outputs": [],
   "source": []
  },
  {
   "cell_type": "code",
   "execution_count": null,
   "metadata": {
    "deletable": false,
    "editable": false,
    "nbgrader": {
     "cell_type": "code",
     "checksum": "e9415d6399aa49e3a1a60813afdefa3b",
     "grade": true,
     "grade_id": "cell-de7b148b9554dbda",
     "locked": true,
     "points": 20,
     "schema_version": 3,
     "solution": false
    }
   },
   "outputs": [],
   "source": []
  }
 ],
 "metadata": {
  "kernelspec": {
   "display_name": "Python 3 (ipykernel)",
   "language": "python",
   "name": "python3"
  },
  "language_info": {
   "codemirror_mode": {
    "name": "ipython",
    "version": 3
   },
   "file_extension": ".py",
   "mimetype": "text/x-python",
   "name": "python",
   "nbconvert_exporter": "python",
   "pygments_lexer": "ipython3",
   "version": "3.11.3"
  }
 },
 "nbformat": 4,
 "nbformat_minor": 4
}
